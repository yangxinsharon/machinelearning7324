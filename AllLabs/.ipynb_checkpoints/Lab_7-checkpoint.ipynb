{
 "cells": [
  {
   "cell_type": "markdown",
   "metadata": {
    "id": "CIWYAyzmrh5w"
   },
   "source": [
    "#Python Machine Learning\n",
    "#Lab 7: Recurrent Network Architectures\n",
    "\n",
    "Sharon Yang"
   ]
  },
  {
   "cell_type": "markdown",
   "metadata": {
    "id": "FTaab9jyGIaC"
   },
   "source": [
    "## Preparation"
   ]
  },
  {
   "cell_type": "code",
   "execution_count": null,
   "metadata": {
    "colab": {
     "base_uri": "https://localhost:8080/"
    },
    "id": "0NwDJmzqscse",
    "outputId": "39417868-969e-4ccf-9a05-13f4a11e857b"
   },
   "outputs": [
    {
     "name": "stdout",
     "output_type": "stream",
     "text": [
      "Mounted at data_full.json\n"
     ]
    }
   ],
   "source": [
    "from google.colab import drive\n",
    "drive.mount('data_full.json')"
   ]
  },
  {
   "cell_type": "markdown",
   "metadata": {
    "id": "Xua1ySmjEBjw"
   },
   "source": [
    "### Overview"
   ]
  },
  {
   "cell_type": "markdown",
   "metadata": {
    "id": "-MM5Mt0zTs6f"
   },
   "source": [
    "The dataset for this lab is the same as the one we used in Lab 3, which is **CLINC150 Data Set** downloaded from https://archive.ics.uci.edu/ml/datasets/CLINC150#.\n",
    "\n",
    "This is an **intent classification** dataset. It consists of two columns:\n",
    "1. *queries*: strings, e.g. \"what is the weather today\"\n",
    "2. *intents*: strings, e.g. \"weather\"\n",
    "\n",
    "We use the full version of the dataset, which contains 150 in-domain intent classes and one out-of-domain class. Each of the 150 intent classes has 100 train, 20 validation, and 30 test samples; the out-of-scope (\"oos\") class has 100 train, 100 validation, and 1,000 test samples.\n",
    "\n",
    "The task for this dataset is to classify a query to an appropriate intent, e.g. if a user says \"please call Amy,\" the intent should be matched to \"make_call.\" We already have the queries as text; in an application, this would come next in the chain after some speech-to-text algorithm.\n"
   ]
  },
  {
   "cell_type": "markdown",
   "metadata": {
    "id": "Aod7s0a3WOAM"
   },
   "source": [
    "### Load data"
   ]
  },
  {
   "cell_type": "markdown",
   "metadata": {
    "id": "vUpF6V2nWqI5"
   },
   "source": [
    ">Define and prepare your class variables. Use proper variable representations (int, float, one-hot, etc.). Use pre-processing methods (as needed). Describe the final dataset that is used for classification/regression (include a description of any newly formed variables you created). Discuss methods of tokenization in your dataset as well as any decisions to force a specific length of sequence."
   ]
  },
  {
   "cell_type": "code",
   "execution_count": 2,
   "metadata": {
    "colab": {
     "base_uri": "https://localhost:8080/"
    },
    "id": "bvWFCvO2raOw",
    "outputId": "891f4cc3-2928-40e7-8405-3929089db2b6"
   },
   "outputs": [
    {
     "name": "stdout",
     "output_type": "stream",
     "text": [
      "dict_keys(['oos_val', 'val', 'train', 'oos_test', 'test', 'oos_train'])\n"
     ]
    }
   ],
   "source": [
    "import json\n",
    "import numpy as np\n",
    "import pandas as pd\n",
    "import matplotlib.pyplot as plt\n",
    "\n",
    "with open('data_full.json') as f:\n",
    "    j = json.load(f)\n",
    "    print(j.keys())"
   ]
  },
  {
   "cell_type": "code",
   "execution_count": 3,
   "metadata": {
    "colab": {
     "base_uri": "https://localhost:8080/"
    },
    "id": "GauOyvMJ1L0f",
    "outputId": "ae48a636-6620-4168-cde8-b493efafabd1"
   },
   "outputs": [
    {
     "name": "stdout",
     "output_type": "stream",
     "text": [
      "<class 'pandas.core.frame.DataFrame'>\n",
      "RangeIndex: 22500 entries, 0 to 22499\n",
      "Data columns (total 2 columns):\n",
      " #   Column   Non-Null Count  Dtype \n",
      "---  ------   --------------  ----- \n",
      " 0   queries  22500 non-null  object\n",
      " 1   intents  22500 non-null  object\n",
      "dtypes: object(2)\n",
      "memory usage: 351.7+ KB\n"
     ]
    },
    {
     "name": "stderr",
     "output_type": "stream",
     "text": [
      "/var/folders/2v/chhdt0bd35l19rtj_c_7vrw40000gn/T/ipykernel_39792/21866924.py:12: FutureWarning: The default value of regex will change from True to False in a future version.\n",
      "  df.queries = df.queries.str.replace('[^a-z ]', '')\n"
     ]
    }
   ],
   "source": [
    "# === Preprocess ===\n",
    "subsets = ['train', 'test', 'val']\n",
    "# subsets_oos = ['oos_train', 'oos_test', 'oos_val']\n",
    "\n",
    "df = pd.concat([pd.DataFrame(j[subset]) for subset in subsets])\n",
    "df.reset_index(inplace=True, drop=True)\n",
    "\n",
    "# label columns\n",
    "df.columns = ['queries', 'intents']\n",
    "\n",
    "# format queries: remove non-alphabet chars\n",
    "df.queries = df.queries.str.replace('[^a-z ]', '')\n",
    "\n",
    "df.info()"
   ]
  },
  {
   "cell_type": "code",
   "execution_count": 4,
   "metadata": {
    "colab": {
     "base_uri": "https://localhost:8080/"
    },
    "id": "nt4Kj5el607E",
    "outputId": "74ed829f-7b45-4ee1-ef81-8fa87cd6fa1b"
   },
   "outputs": [
    {
     "name": "stdout",
     "output_type": "stream",
     "text": [
      "Max of query length is  28\n"
     ]
    }
   ],
   "source": [
    "# === Words frequency and max query length ===\n",
    "maxlen = 0\n",
    "queries_len = []\n",
    "all_words = []\n",
    "for i,query in enumerate(df.queries):\n",
    "  length = len(query.split())\n",
    "  maxlen = max(maxlen, length)\n",
    "  queries_len.append(length)\n",
    "  for word in query.split():\n",
    "      all_words.append(word)\n",
    "unique, counts = np.unique(np.array(all_words), return_counts=True)\n",
    "print('Max of query length is ', maxlen)"
   ]
  },
  {
   "cell_type": "code",
   "execution_count": 5,
   "metadata": {
    "colab": {
     "base_uri": "https://localhost:8080/",
     "height": 672
    },
    "id": "rPcWLnCYSmZ8",
    "outputId": "4c6e1552-4647-4823-8d2c-bb41186a2a3a"
   },
   "outputs": [
    {
     "data": {
      "text/plain": [
       "Text(0.5, 1.0, 'Histogram of query length')"
      ]
     },
     "execution_count": 5,
     "metadata": {},
     "output_type": "execute_result"
    },
    {
     "data": {
      "image/png": "[encoded data removed]",
      "text/plain": [
       "<Figure size 1500x500 with 1 Axes>"
      ]
     },
     "metadata": {},
     "output_type": "display_data"
    },
    {
     "data": {
      "image/png": "[encoded data removed]",
      "text/plain": [
       "<Figure size 1500x500 with 1 Axes>"
      ]
     },
     "metadata": {},
     "output_type": "display_data"
    }
   ],
   "source": [
    "# plot words frequency\n",
    "plt.figure(figsize=(15,5))\n",
    "sort = np.argsort(-counts)\n",
    "plt.yscale('log')\n",
    "plt.scatter(range(len(unique)),counts[sort])\n",
    "plt.grid()\n",
    "plt.title('Words frequency in whole dataset')\n",
    "\n",
    "# plot queries length\n",
    "plt.figure(figsize=(15,5))\n",
    "plt.hist(queries_len,bins=28)\n",
    "plt.grid()\n",
    "plt.title('Histogram of query length')"
   ]
  },
  {
   "cell_type": "code",
   "execution_count": null,
   "metadata": {
    "colab": {
     "base_uri": "https://localhost:8080/"
    },
    "id": "zZaoI_SCAN5p",
    "outputId": "690593c6-f1e3-475c-c1d3-5b4c050e40ba"
   },
   "outputs": [
    {
     "data": {
      "text/plain": [
       "array(['communicating', 'frayed', 'aud', 'byebye', 'fixing'], dtype='<U19')"
      ]
     },
     "execution_count": 9,
     "metadata": {},
     "output_type": "execute_result"
    }
   ],
   "source": [
    "# some random words appear only once \n",
    "np.random.choice(unique[sort][3500:6000],5)"
   ]
  },
  {
   "cell_type": "markdown",
   "metadata": {
    "id": "mSMDmHDnGWO7"
   },
   "source": [
    "As shown above, over 3300 words show up more than once, and around 1200 words show up over 10 times. However, we will still keep all words instead of just keeping the high frequency words because some of the words that appear only once are still meaningful, as shown above in the *'random.choice()'*.\n",
    "\n",
    "The maximum length of the query is 28, and the queries that have 3 to 14 words appear more than 500 times. The queries that have more than 15 words are rare among the whole dataset, so we will force the query length to 15 instead."
   ]
  },
  {
   "cell_type": "code",
   "execution_count": null,
   "metadata": {
    "colab": {
     "base_uri": "https://localhost:8080/"
    },
    "id": "bWsJIW_qNBkP",
    "outputId": "f11050dd-1dbc-40a0-c198-90391ac62c3d"
   },
   "outputs": [
    {
     "name": "stdout",
     "output_type": "stream",
     "text": [
      "Found 6095 unique tokens. Distilled to 6095 top words.\n",
      "Shape of data tensor: (22500, 15)\n",
      "Shape of label tensor: (22500, 150)\n",
      "6095\n",
      "CPU times: user 887 ms, sys: 28.4 ms, total: 915 ms\n",
      "Wall time: 1.03 s\n"
     ]
    }
   ],
   "source": [
    "%%time\n",
    "from tensorflow import keras\n",
    "from sklearn.preprocessing import LabelEncoder\n",
    "from tensorflow.keras.preprocessing.text import Tokenizer\n",
    "from tensorflow.keras.preprocessing.sequence import pad_sequences\n",
    "\n",
    "NUM_TOP_WORDS = None # use entire vocabulary!\n",
    "MAX_ART_LEN = 15 # maximum and minimum number of words\n",
    "\n",
    "#tokenize the text\n",
    "tokenizer = Tokenizer(num_words=NUM_TOP_WORDS)\n",
    "tokenizer.fit_on_texts(df.queries)\n",
    "# save as sequences with integers replacing words\n",
    "sequences = tokenizer.texts_to_sequences(df.queries)\n",
    "\n",
    "word_index = tokenizer.word_index\n",
    "NUM_TOP_WORDS = len(word_index) if NUM_TOP_WORDS==None else NUM_TOP_WORDS\n",
    "top_words = min((len(word_index),NUM_TOP_WORDS))\n",
    "print('Found %s unique tokens. Distilled to %d top words.' % (len(word_index),top_words))\n",
    "\n",
    "X = pad_sequences(sequences, maxlen=MAX_ART_LEN)\n",
    "\n",
    "label_encoder = LabelEncoder()\n",
    "y = label_encoder.fit_transform(df.intents)\n",
    "y_ohe = keras.utils.to_categorical(y)\n",
    "print('Shape of data tensor:', X.shape)\n",
    "print('Shape of label tensor:', y_ohe.shape)\n",
    "print(np.max(X))"
   ]
  },
  {
   "cell_type": "markdown",
   "metadata": {
    "id": "yyeiRnvMGqDy"
   },
   "source": [
    "All queries have been tokenized, and all intents have been one-hot encoded. This dataset will then be used for classification."
   ]
  },
  {
   "cell_type": "markdown",
   "metadata": {
    "id": "Z2aSMF88NS-j"
   },
   "source": [
    "### Evaluation metrics"
   ]
  },
  {
   "cell_type": "markdown",
   "metadata": {
    "id": "1FUrEn0vF13J"
   },
   "source": [
    ">Choose and explain what metric(s) you will use to evaluate your algorithm’s performance. You should give a detailed argument for why this (these) metric(s) are appropriate on your data. That is, why is the metric appropriate for the task (e.g., in terms of the business case for the task). Please note: rarely is accuracy the best evaluation metric to use. Think deeply about an appropriate measure of performance."
   ]
  },
  {
   "cell_type": "markdown",
   "metadata": {
    "id": "k95m8YYgYhio"
   },
   "source": [
    "We will use 'accuracy', 'f1_score', 'matthews_corrcoef', and 'roc_auc_score' for performance evaluation. We keep 'accuracy' because our given data is well-balanced. However, in real situation, people tend to ask some queries more often than other queries. For instance, 'what's the weather today' appears more often than 'what's my credit balance'. We believe there exists a distribution among all 150 intent classes. Therefore, we will also use 'f1_score', 'matthews_corrcoef', and 'roc_auc_score'. \n",
    "\n",
    "1. 'accuracy_score'\n",
    "\n",
    "2. 'f1_score': harmonic mean of the precision and recall, use (average='macro') to find unweighted mean of each intent.\n",
    "\n",
    "3. 'matthews_corrcoef': A measure of the quality of multiclass classification. The Matthews correlation coefficient takes into account true and false positives and negatives. The MCC is in essence a correlation coefficient value between -1 and +1. A coefficient of +1 represents a perfect prediction, 0 an average random prediction and -1 an inverse prediction.\n",
    "Reference: https://scikit-learn.org/stable/modules/generated/sklearn.metrics.matthews_corrcoef.html\n",
    "\n",
    "4. 'roc_auc_score': Compute Area Under the Receiver Operating Characteristic Curve (ROC AUC) from prediction scores. Use \n",
    "(average='macro', multi_class='ovo') to find unweighted mean of each intent.\n"
   ]
  },
  {
   "cell_type": "code",
   "execution_count": null,
   "metadata": {
    "id": "5wb0w64jUFOm"
   },
   "outputs": [],
   "source": [
    "# Reference: https://stackoverflow.com/questions/56865344/how-do-i-calculate-the-matthews-correlation-coefficient-in-tensorflow\n",
    "def mcc_metric(y_true, y_pred):\n",
    "  predicted = tf.cast(tf.greater(y_pred, 0.5), tf.float32)\n",
    "  true_pos = tf.math.count_nonzero(predicted * y_true)\n",
    "  true_neg = tf.math.count_nonzero((predicted - 1) * (y_true - 1))\n",
    "  false_pos = tf.math.count_nonzero(predicted * (y_true - 1))\n",
    "  false_neg = tf.math.count_nonzero((predicted - 1) * y_true)\n",
    "  x = tf.cast((true_pos + false_pos) * (true_pos + false_neg) \n",
    "      * (true_neg + false_pos) * (true_neg + false_neg), tf.float32)\n",
    "  return tf.cast((true_pos * true_neg) - (false_pos * false_neg), tf.float32) / tf.sqrt(x)\n",
    "\n",
    "# Reference: https://stackoverflow.com/questions/41032551/how-to-compute-receiving-operating-characteristic-roc-and-auc-in-keras\n",
    "import tensorflow as tf\n",
    "from sklearn.metrics import roc_auc_score\n",
    "\n",
    "def auroc(y_true, y_pred):\n",
    "    return tf.py_func(roc_auc_score, (y_true, y_pred), tf.double)\n",
    "\n",
    "# Reference: https://datascience.stackexchange.com/questions/45165/how-to-get-accuracy-f1-precision-and-recall-for-a-keras-model\n",
    "from keras import backend as K\n",
    "def f1_m(y_true, y_pred):\n",
    "  def recall_m(y_true, y_pred):\n",
    "    true_positives = K.sum(K.round(K.clip(y_true * y_pred, 0, 1)))\n",
    "    possible_positives = K.sum(K.round(K.clip(y_true, 0, 1)))\n",
    "    recall = true_positives / (possible_positives + K.epsilon())\n",
    "    return recall\n",
    "  def precision_m(y_true, y_pred):\n",
    "    true_positives = K.sum(K.round(K.clip(y_true * y_pred, 0, 1)))\n",
    "    predicted_positives = K.sum(K.round(K.clip(y_pred, 0, 1)))\n",
    "    precision = true_positives / (predicted_positives + K.epsilon())\n",
    "    return precision\n",
    "\n",
    "  precision = precision_m(y_true, y_pred)\n",
    "  recall = recall_m(y_true, y_pred)\n",
    "  return 2*((precision*recall)/(precision+recall+K.epsilon()))"
   ]
  },
  {
   "cell_type": "markdown",
   "metadata": {
    "id": "A-1ADr0ONxnQ"
   },
   "source": [
    "###Train-test splitting"
   ]
  },
  {
   "cell_type": "markdown",
   "metadata": {
    "id": "BnIB8qGNF9_w"
   },
   "source": [
    ">Choose the method you will use for dividing your data into training and testing (i.e., are you using Stratified 10-fold cross validation? Shuffle splits? Why?). Explain why your chosen method is appropriate or use more than one method as appropriate. Convince me that your train/test splitting method is a realistic mirroring of how an algorithm would be used in practice."
   ]
  },
  {
   "cell_type": "markdown",
   "metadata": {
    "id": "gtQ4xbJseSUj"
   },
   "source": [
    "Our dataset comes in pre-split, with 100 train, 30 test samples for each intent classes, leading to a total of 15000 samples in training set, and 4500 samples in test set. \n",
    "We will simply keep the same splits because the dataset is large enough for a single train-test split to be representative. It fits a realistic model by containing enough words in the train set."
   ]
  },
  {
   "cell_type": "code",
   "execution_count": null,
   "metadata": {
    "id": "dAqV3MQ-FwJc"
   },
   "outputs": [],
   "source": [
    "X_train = X[:15000]\n",
    "X_test = X[15000:19500]\n",
    "y_train_ohe = y_ohe[:15000]\n",
    "y_test_ohe = y_ohe[15000:19500]"
   ]
  },
  {
   "cell_type": "markdown",
   "metadata": {
    "id": "qazbLvgPGFgI"
   },
   "source": [
    "## Modeling"
   ]
  },
  {
   "cell_type": "markdown",
   "metadata": {
    "id": "IduKDKTQGG-G"
   },
   "source": [
    ">Investigate at least two different recurrent network architectures (perhaps LSTM and GRU). Be sure to use an embedding layer (pre-trained, from scratch, OR both). Adjust hyper-parameters of the networks as needed to improve generalization performance (train a total of at least four models). Discuss the performance of each network and compare them."
   ]
  },
  {
   "cell_type": "markdown",
   "metadata": {
    "id": "6LajIr7H6Pj1"
   },
   "source": [
    "### Embedding layer"
   ]
  },
  {
   "cell_type": "code",
   "execution_count": null,
   "metadata": {
    "id": "mygU2UUAeRl-"
   },
   "outputs": [],
   "source": [
    "from tensorflow.keras.models import Sequential, Model\n",
    "from tensorflow.keras.layers import Dense, Input\n",
    "from tensorflow.keras.layers import Embedding\n",
    "\n",
    "NUM_CLASSES = 150\n",
    "EMBED_SIZE = 100\n",
    "RNN_STATESIZE = 100\n",
    "rnns = []\n",
    "input_holder = Input(shape=(X_train.shape[1], ))\n",
    "shared_embed = Embedding(len(word_index) + 1, # input dimension \n",
    "                         EMBED_SIZE, # output dimension size\n",
    "                         input_length=MAX_ART_LEN)(input_holder) # number of words in each sequence"
   ]
  },
  {
   "cell_type": "code",
   "execution_count": null,
   "metadata": {
    "id": "0bk2Xas-KQfi"
   },
   "outputs": [],
   "source": [
    "%%time\n",
    "EMBED_SIZE = 100\n",
    "# the embed size should match the file you load glove from\n",
    "embeddings_index = {}\n",
    "f = open('glove.6B.100d.txt')\n",
    "# save key/array pairs of the embeddings\n",
    "#  the key of the dictionary is the word, the array is the embedding\n",
    "for line in f:\n",
    "    values = line.split()\n",
    "    word = values[0]\n",
    "    coefs = np.asarray(values[1:], dtype='float32')\n",
    "    embeddings_index[word] = coefs\n",
    "f.close()\n",
    "\n",
    "print('Found %s word vectors.' % len(embeddings_index))\n",
    "\n",
    "# now fill in the matrix, using the ordering from the\n",
    "#  keras word tokenizer from before\n",
    "found_words = 0\n",
    "embedding_matrix = np.zeros((len(word_index) + 1, EMBED_SIZE))\n",
    "for word, i in word_index.items():\n",
    "    embedding_vector = embeddings_index.get(word)\n",
    "    if embedding_vector is not None:\n",
    "        # words not found in embedding index will be all-zeros.\n",
    "        embedding_matrix[i] = embedding_vector\n",
    "        found_words = found_words+1\n",
    "\n",
    "print(\"Embedding Shape:\",embedding_matrix.shape, \"\\n\",\n",
    "      \"Total words found:\",found_words, \"\\n\",\n",
    "      \"Percentage:\",100*found_words/embedding_matrix.shape[0])"
   ]
  },
  {
   "cell_type": "markdown",
   "metadata": {
    "id": "XI7XZTb60TF7"
   },
   "source": [
    "### LSTM"
   ]
  },
  {
   "cell_type": "code",
   "execution_count": null,
   "metadata": {
    "colab": {
     "base_uri": "https://localhost:8080/",
     "height": 424
    },
    "id": "dlmBdk3n0Df9",
    "outputId": "5fc26f09-9045-441e-da93-13abaed0fdef"
   },
   "outputs": [
    {
     "ename": "TypeError",
     "evalue": "ignored",
     "output_type": "error",
     "traceback": [
      "\u001b[0;31m---------------------------------------------------------------------------\u001b[0m",
      "\u001b[0;31mTypeError\u001b[0m                                 Traceback (most recent call last)",
      "\u001b[0;32m<ipython-input-30-4632b29c6a19>\u001b[0m in \u001b[0;36m<module>\u001b[0;34m()\u001b[0m\n\u001b[1;32m      2\u001b[0m \u001b[0;34m\u001b[0m\u001b[0m\n\u001b[1;32m      3\u001b[0m \u001b[0mlstm_model\u001b[0m \u001b[0;34m=\u001b[0m \u001b[0mSequential\u001b[0m\u001b[0;34m(\u001b[0m\u001b[0;34m)\u001b[0m\u001b[0;34m\u001b[0m\u001b[0;34m\u001b[0m\u001b[0m\n\u001b[0;32m----> 4\u001b[0;31m \u001b[0mlstm_model\u001b[0m\u001b[0;34m.\u001b[0m\u001b[0madd\u001b[0m\u001b[0;34m(\u001b[0m\u001b[0mshared_embed\u001b[0m\u001b[0;34m)\u001b[0m\u001b[0;34m\u001b[0m\u001b[0;34m\u001b[0m\u001b[0m\n\u001b[0m\u001b[1;32m      5\u001b[0m \u001b[0mlstm_model\u001b[0m\u001b[0;34m.\u001b[0m\u001b[0madd\u001b[0m\u001b[0;34m(\u001b[0m\u001b[0mLSTM\u001b[0m\u001b[0;34m(\u001b[0m\u001b[0;36m100\u001b[0m\u001b[0;34m,\u001b[0m\u001b[0mdropout\u001b[0m\u001b[0;34m=\u001b[0m\u001b[0;36m0.2\u001b[0m\u001b[0;34m,\u001b[0m \u001b[0mrecurrent_dropout\u001b[0m\u001b[0;34m=\u001b[0m\u001b[0;36m0.2\u001b[0m\u001b[0;34m)\u001b[0m\u001b[0;34m)\u001b[0m\u001b[0;34m\u001b[0m\u001b[0;34m\u001b[0m\u001b[0m\n\u001b[1;32m      6\u001b[0m \u001b[0mlstm_model\u001b[0m\u001b[0;34m.\u001b[0m\u001b[0madd\u001b[0m\u001b[0;34m(\u001b[0m\u001b[0mDense\u001b[0m\u001b[0;34m(\u001b[0m\u001b[0mNUM_CLASSES\u001b[0m\u001b[0;34m,\u001b[0m \u001b[0mactivation\u001b[0m\u001b[0;34m=\u001b[0m\u001b[0;34m'sigmoid'\u001b[0m\u001b[0;34m)\u001b[0m\u001b[0;34m)\u001b[0m\u001b[0;34m\u001b[0m\u001b[0;34m\u001b[0m\u001b[0m\n",
      "\u001b[0;32m/usr/local/lib/python3.7/dist-packages/tensorflow/python/training/tracking/base.py\u001b[0m in \u001b[0;36m_method_wrapper\u001b[0;34m(self, *args, **kwargs)\u001b[0m\n\u001b[1;32m    528\u001b[0m     \u001b[0mself\u001b[0m\u001b[0;34m.\u001b[0m\u001b[0m_self_setattr_tracking\u001b[0m \u001b[0;34m=\u001b[0m \u001b[0;32mFalse\u001b[0m  \u001b[0;31m# pylint: disable=protected-access\u001b[0m\u001b[0;34m\u001b[0m\u001b[0;34m\u001b[0m\u001b[0m\n\u001b[1;32m    529\u001b[0m     \u001b[0;32mtry\u001b[0m\u001b[0;34m:\u001b[0m\u001b[0;34m\u001b[0m\u001b[0;34m\u001b[0m\u001b[0m\n\u001b[0;32m--> 530\u001b[0;31m       \u001b[0mresult\u001b[0m \u001b[0;34m=\u001b[0m \u001b[0mmethod\u001b[0m\u001b[0;34m(\u001b[0m\u001b[0mself\u001b[0m\u001b[0;34m,\u001b[0m \u001b[0;34m*\u001b[0m\u001b[0margs\u001b[0m\u001b[0;34m,\u001b[0m \u001b[0;34m**\u001b[0m\u001b[0mkwargs\u001b[0m\u001b[0;34m)\u001b[0m\u001b[0;34m\u001b[0m\u001b[0;34m\u001b[0m\u001b[0m\n\u001b[0m\u001b[1;32m    531\u001b[0m     \u001b[0;32mfinally\u001b[0m\u001b[0;34m:\u001b[0m\u001b[0;34m\u001b[0m\u001b[0;34m\u001b[0m\u001b[0m\n\u001b[1;32m    532\u001b[0m       \u001b[0mself\u001b[0m\u001b[0;34m.\u001b[0m\u001b[0m_self_setattr_tracking\u001b[0m \u001b[0;34m=\u001b[0m \u001b[0mprevious_value\u001b[0m  \u001b[0;31m# pylint: disable=protected-access\u001b[0m\u001b[0;34m\u001b[0m\u001b[0;34m\u001b[0m\u001b[0m\n",
      "\u001b[0;32m/usr/local/lib/python3.7/dist-packages/keras/utils/traceback_utils.py\u001b[0m in \u001b[0;36merror_handler\u001b[0;34m(*args, **kwargs)\u001b[0m\n\u001b[1;32m     65\u001b[0m     \u001b[0;32mexcept\u001b[0m \u001b[0mException\u001b[0m \u001b[0;32mas\u001b[0m \u001b[0me\u001b[0m\u001b[0;34m:\u001b[0m  \u001b[0;31m# pylint: disable=broad-except\u001b[0m\u001b[0;34m\u001b[0m\u001b[0;34m\u001b[0m\u001b[0m\n\u001b[1;32m     66\u001b[0m       \u001b[0mfiltered_tb\u001b[0m \u001b[0;34m=\u001b[0m \u001b[0m_process_traceback_frames\u001b[0m\u001b[0;34m(\u001b[0m\u001b[0me\u001b[0m\u001b[0;34m.\u001b[0m\u001b[0m__traceback__\u001b[0m\u001b[0;34m)\u001b[0m\u001b[0;34m\u001b[0m\u001b[0;34m\u001b[0m\u001b[0m\n\u001b[0;32m---> 67\u001b[0;31m       \u001b[0;32mraise\u001b[0m \u001b[0me\u001b[0m\u001b[0;34m.\u001b[0m\u001b[0mwith_traceback\u001b[0m\u001b[0;34m(\u001b[0m\u001b[0mfiltered_tb\u001b[0m\u001b[0;34m)\u001b[0m \u001b[0;32mfrom\u001b[0m \u001b[0;32mNone\u001b[0m\u001b[0;34m\u001b[0m\u001b[0;34m\u001b[0m\u001b[0m\n\u001b[0m\u001b[1;32m     68\u001b[0m     \u001b[0;32mfinally\u001b[0m\u001b[0;34m:\u001b[0m\u001b[0;34m\u001b[0m\u001b[0;34m\u001b[0m\u001b[0m\n\u001b[1;32m     69\u001b[0m       \u001b[0;32mdel\u001b[0m \u001b[0mfiltered_tb\u001b[0m\u001b[0;34m\u001b[0m\u001b[0;34m\u001b[0m\u001b[0m\n",
      "\u001b[0;32m/usr/local/lib/python3.7/dist-packages/keras/engine/sequential.py\u001b[0m in \u001b[0;36madd\u001b[0;34m(self, layer)\u001b[0m\n\u001b[1;32m    176\u001b[0m         \u001b[0mlayer\u001b[0m \u001b[0;34m=\u001b[0m \u001b[0mfunctional\u001b[0m\u001b[0;34m.\u001b[0m\u001b[0mModuleWrapper\u001b[0m\u001b[0;34m(\u001b[0m\u001b[0mlayer\u001b[0m\u001b[0;34m)\u001b[0m\u001b[0;34m\u001b[0m\u001b[0;34m\u001b[0m\u001b[0m\n\u001b[1;32m    177\u001b[0m     \u001b[0;32melse\u001b[0m\u001b[0;34m:\u001b[0m\u001b[0;34m\u001b[0m\u001b[0;34m\u001b[0m\u001b[0m\n\u001b[0;32m--> 178\u001b[0;31m       raise TypeError('The added layer must be an instance of class Layer. '\n\u001b[0m\u001b[1;32m    179\u001b[0m                       f'Received: layer={layer} of type {type(layer)}.')\n\u001b[1;32m    180\u001b[0m \u001b[0;34m\u001b[0m\u001b[0m\n",
      "\u001b[0;31mTypeError\u001b[0m: The added layer must be an instance of class Layer. Received: layer=KerasTensor(type_spec=TensorSpec(shape=(None, 15, 100), dtype=tf.float32, name=None), name='embedding_2/embedding_lookup/Identity_1:0', description=\"created by layer 'embedding_2'\") of type <class 'keras.engine.keras_tensor.KerasTensor'>."
     ]
    }
   ],
   "source": [
    "from tensorflow.keras.layers import LSTM\n",
    "\n",
    "lstm_model = Sequential()\n",
    "lstm_model.add(shared_embed)\n",
    "lstm_model.add(LSTM(100,dropout=0.2, recurrent_dropout=0.2))\n",
    "lstm_model.add(Dense(NUM_CLASSES, activation='sigmoid'))\n",
    "lstm_model.compile(loss='categorical_crossentropy', \n",
    "              optimizer='rmsprop', \n",
    "              metrics=['accuracy', f1_m, mcc_metric, auroc])\n",
    "print(lstm_model.summary())"
   ]
  },
  {
   "cell_type": "code",
   "execution_count": null,
   "metadata": {
    "colab": {
     "base_uri": "https://localhost:8080/"
    },
    "id": "kmTR6cgGHUyv",
    "outputId": "dd5e3454-1909-4d78-b5fd-109b9243ded2"
   },
   "outputs": [
    {
     "name": "stdout",
     "output_type": "stream",
     "text": [
      "Collecting git+https://github.com/adrianc-a/tf-slim.git\n",
      "  Cloning https://github.com/adrianc-a/tf-slim.git to /tmp/pip-req-build-htk4pbke\n",
      "  Running command git clone -q https://github.com/adrianc-a/tf-slim.git /tmp/pip-req-build-htk4pbke\n",
      "Requirement already satisfied: absl-py>=0.2.2 in /usr/local/lib/python3.7/dist-packages (from tf-slim==1.0) (0.12.0)\n",
      "Requirement already satisfied: six in /usr/local/lib/python3.7/dist-packages (from absl-py>=0.2.2->tf-slim==1.0) (1.15.0)\n",
      "Building wheels for collected packages: tf-slim\n",
      "  Building wheel for tf-slim (setup.py) ... \u001b[?25l\u001b[?25hdone\n",
      "  Created wheel for tf-slim: filename=tf_slim-1.0-py3-none-any.whl size=122332 sha256=78ac423a1403bca0bee0232f91e96eeb80a798fa60957c6878a7ec9043b2b5fa\n",
      "  Stored in directory: /tmp/pip-ephem-wheel-cache-ay1s3qr5/wheels/78/ed/05/04896cd68dcd72750bf2e6cc2bb6569850cf58e8bacc00d5cb\n",
      "Successfully built tf-slim\n",
      "Installing collected packages: tf-slim\n",
      "Successfully installed tf-slim-1.0\n"
     ]
    }
   ],
   "source": [
    "# Error: module 'tensorflow' has no attribute 'py_func'\n",
    "# Reference: https://www.codenong.com/cs106162826/\n",
    "!pip install git+https://github.com/adrianc-a/tf-slim.git"
   ]
  },
  {
   "cell_type": "code",
   "execution_count": null,
   "metadata": {
    "colab": {
     "base_uri": "https://localhost:8080/",
     "height": 477
    },
    "id": "DItSzrSTGUGk",
    "outputId": "7a144d29-75ad-4c4f-8bac-f81635dd9ba9"
   },
   "outputs": [
    {
     "ename": "TypeError",
     "evalue": "ignored",
     "output_type": "error",
     "traceback": [
      "\u001b[0;31m---------------------------------------------------------------------------\u001b[0m",
      "\u001b[0;31mTypeError\u001b[0m                                 Traceback (most recent call last)",
      "\u001b[0;32m<ipython-input-28-bcb7bcc6dc53>\u001b[0m in \u001b[0;36m<module>\u001b[0;34m()\u001b[0m\n\u001b[1;32m      1\u001b[0m \u001b[0mhistory_lstm\u001b[0m \u001b[0;34m=\u001b[0m \u001b[0;34m[\u001b[0m\u001b[0;34m]\u001b[0m\u001b[0;34m\u001b[0m\u001b[0;34m\u001b[0m\u001b[0m\n\u001b[0;32m----> 2\u001b[0;31m \u001b[0mtmp\u001b[0m \u001b[0;34m=\u001b[0m \u001b[0mlstm_model\u001b[0m\u001b[0;34m.\u001b[0m\u001b[0mfit\u001b[0m\u001b[0;34m(\u001b[0m\u001b[0mX_train\u001b[0m\u001b[0;34m,\u001b[0m \u001b[0my_train_ohe\u001b[0m\u001b[0;34m,\u001b[0m \u001b[0mvalidation_data\u001b[0m\u001b[0;34m=\u001b[0m\u001b[0;34m(\u001b[0m\u001b[0mX_test\u001b[0m\u001b[0;34m,\u001b[0m \u001b[0my_test_ohe\u001b[0m\u001b[0;34m)\u001b[0m\u001b[0;34m)\u001b[0m\u001b[0;31m#, epochs=6, batch_size=64)\u001b[0m\u001b[0;34m\u001b[0m\u001b[0;34m\u001b[0m\u001b[0m\n\u001b[0m\u001b[1;32m      3\u001b[0m \u001b[0mhistory_lstm\u001b[0m\u001b[0;34m.\u001b[0m\u001b[0mappend\u001b[0m\u001b[0;34m(\u001b[0m\u001b[0mtmp\u001b[0m\u001b[0;34m)\u001b[0m\u001b[0;34m\u001b[0m\u001b[0;34m\u001b[0m\u001b[0m\n",
      "\u001b[0;32m/usr/local/lib/python3.7/dist-packages/keras/utils/traceback_utils.py\u001b[0m in \u001b[0;36merror_handler\u001b[0;34m(*args, **kwargs)\u001b[0m\n\u001b[1;32m     65\u001b[0m     \u001b[0;32mexcept\u001b[0m \u001b[0mException\u001b[0m \u001b[0;32mas\u001b[0m \u001b[0me\u001b[0m\u001b[0;34m:\u001b[0m  \u001b[0;31m# pylint: disable=broad-except\u001b[0m\u001b[0;34m\u001b[0m\u001b[0;34m\u001b[0m\u001b[0m\n\u001b[1;32m     66\u001b[0m       \u001b[0mfiltered_tb\u001b[0m \u001b[0;34m=\u001b[0m \u001b[0m_process_traceback_frames\u001b[0m\u001b[0;34m(\u001b[0m\u001b[0me\u001b[0m\u001b[0;34m.\u001b[0m\u001b[0m__traceback__\u001b[0m\u001b[0;34m)\u001b[0m\u001b[0;34m\u001b[0m\u001b[0;34m\u001b[0m\u001b[0m\n\u001b[0;32m---> 67\u001b[0;31m       \u001b[0;32mraise\u001b[0m \u001b[0me\u001b[0m\u001b[0;34m.\u001b[0m\u001b[0mwith_traceback\u001b[0m\u001b[0;34m(\u001b[0m\u001b[0mfiltered_tb\u001b[0m\u001b[0;34m)\u001b[0m \u001b[0;32mfrom\u001b[0m \u001b[0;32mNone\u001b[0m\u001b[0;34m\u001b[0m\u001b[0;34m\u001b[0m\u001b[0m\n\u001b[0m\u001b[1;32m     68\u001b[0m     \u001b[0;32mfinally\u001b[0m\u001b[0;34m:\u001b[0m\u001b[0;34m\u001b[0m\u001b[0;34m\u001b[0m\u001b[0m\n\u001b[1;32m     69\u001b[0m       \u001b[0;32mdel\u001b[0m \u001b[0mfiltered_tb\u001b[0m\u001b[0;34m\u001b[0m\u001b[0;34m\u001b[0m\u001b[0m\n",
      "\u001b[0;32m/usr/local/lib/python3.7/dist-packages/tensorflow/python/eager/def_function.py\u001b[0m in \u001b[0;36m_call\u001b[0;34m(self, *args, **kwds)\u001b[0m\n\u001b[1;32m    940\u001b[0m       \u001b[0;31m# In this case we have created variables on the first call, so we run the\u001b[0m\u001b[0;34m\u001b[0m\u001b[0;34m\u001b[0m\u001b[0;34m\u001b[0m\u001b[0m\n\u001b[1;32m    941\u001b[0m       \u001b[0;31m# defunned version which is guaranteed to never create variables.\u001b[0m\u001b[0;34m\u001b[0m\u001b[0;34m\u001b[0m\u001b[0;34m\u001b[0m\u001b[0m\n\u001b[0;32m--> 942\u001b[0;31m       \u001b[0;32mreturn\u001b[0m \u001b[0mself\u001b[0m\u001b[0;34m.\u001b[0m\u001b[0m_stateless_fn\u001b[0m\u001b[0;34m(\u001b[0m\u001b[0;34m*\u001b[0m\u001b[0margs\u001b[0m\u001b[0;34m,\u001b[0m \u001b[0;34m**\u001b[0m\u001b[0mkwds\u001b[0m\u001b[0;34m)\u001b[0m  \u001b[0;31m# pylint: disable=not-callable\u001b[0m\u001b[0;34m\u001b[0m\u001b[0;34m\u001b[0m\u001b[0m\n\u001b[0m\u001b[1;32m    943\u001b[0m     \u001b[0;32melif\u001b[0m \u001b[0mself\u001b[0m\u001b[0;34m.\u001b[0m\u001b[0m_stateful_fn\u001b[0m \u001b[0;32mis\u001b[0m \u001b[0;32mnot\u001b[0m \u001b[0;32mNone\u001b[0m\u001b[0;34m:\u001b[0m\u001b[0;34m\u001b[0m\u001b[0;34m\u001b[0m\u001b[0m\n\u001b[1;32m    944\u001b[0m       \u001b[0;31m# Release the lock early so that multiple threads can perform the call\u001b[0m\u001b[0;34m\u001b[0m\u001b[0;34m\u001b[0m\u001b[0;34m\u001b[0m\u001b[0m\n",
      "\u001b[0;31mTypeError\u001b[0m: 'NoneType' object is not callable"
     ]
    }
   ],
   "source": [
    "history_lstm = []\n",
    "tmp = lstm_model.fit(X_train, y_train_ohe, validation_data=(X_test, y_test_ohe))#, epochs=6, batch_size=64)\n",
    "history_lstm.append(tmp)"
   ]
  },
  {
   "cell_type": "code",
   "execution_count": null,
   "metadata": {
    "id": "FC1eYG4I84Sd"
   },
   "outputs": [],
   "source": []
  },
  {
   "cell_type": "markdown",
   "metadata": {
    "id": "y0o_AQHVI361"
   },
   "source": [
    "### GRU"
   ]
  },
  {
   "cell_type": "code",
   "execution_count": null,
   "metadata": {
    "id": "33ZnywUHJB8d"
   },
   "outputs": [],
   "source": []
  },
  {
   "cell_type": "code",
   "execution_count": null,
   "metadata": {
    "id": "GPbpg0qHW4vv"
   },
   "outputs": [],
   "source": [
    "#=== Cleaning ===\n",
    "\n",
    "#=== Keep top N words ===\n",
    "\n",
    "#=== Convert to sequences ===\n",
    "\n",
    "#=== Padding ===\n",
    "\n",
    "#=== GloVe ==="
   ]
  },
  {
   "cell_type": "markdown",
   "metadata": {
    "id": "gpqyZBKKJe4N"
   },
   "source": [
    "### Second recurrent chain"
   ]
  },
  {
   "cell_type": "markdown",
   "metadata": {
    "id": "D5LlIesxJZ19"
   },
   "source": [
    ">Using the best RNN parameters and architecture, add a second recurrent chain to your RNN. The input to the second chain should be the output sequence of the first chain. Visualize the performance of training and validation sets versus the training iterations. "
   ]
  },
  {
   "cell_type": "code",
   "execution_count": null,
   "metadata": {
    "id": "P4h2gltLJkNU"
   },
   "outputs": [],
   "source": []
  },
  {
   "cell_type": "markdown",
   "metadata": {
    "id": "CylyAaU9JRi5"
   },
   "source": [
    "### Statistical comparison"
   ]
  },
  {
   "cell_type": "markdown",
   "metadata": {
    "id": "sOMxAB4rJC2g"
   },
   "source": [
    ">Use the method of train/test splitting and evaluation criteria that you argued for at the beginning of the lab. Visualize the results of all the RNNs you trained.  Use proper statistical comparison techniques to determine which method(s) is (are) superior.  "
   ]
  },
  {
   "cell_type": "code",
   "execution_count": null,
   "metadata": {
    "id": "chr4srvqJmrc"
   },
   "outputs": [],
   "source": []
  },
  {
   "cell_type": "code",
   "execution_count": null,
   "metadata": {
    "id": "R-q-nwCkJmuP"
   },
   "outputs": [],
   "source": []
  },
  {
   "cell_type": "markdown",
   "metadata": {
    "id": "WAtRt1FGbEuK"
   },
   "source": [
    "**Tokenization/Padding**:\n",
    "\n",
    "We use GloVe so tokenization not necessary (?)\n",
    "\n",
    "For padding, we pad/trim to 95th percentile length (~20 words)\n",
    "\n",
    "Also consider leaving it variable length."
   ]
  },
  {
   "cell_type": "markdown",
   "metadata": {
    "id": "FbRWaTdkcgcM"
   },
   "source": [
    "**Modeling**:\n",
    "\n",
    "Create LSTM and GRU RNNs.\n",
    "\n",
    "We'll use pre-trained GloVe Embedding. We can choose 50, 100, 200, 300 dimensions.\n",
    "\n",
    "Tune hyperparameters (take best of at least 4 models). Discuss and compare.\n",
    "\n",
    "Add a second chain to the best model."
   ]
  },
  {
   "cell_type": "markdown",
   "metadata": {
    "id": "iTh5pSVuLKzm"
   },
   "source": [
    "Considerations:\n",
    "1. We'll use words\n",
    "2. Our max sequence length is 28\n",
    "3. Our max vocab is 6095\n"
   ]
  },
  {
   "cell_type": "markdown",
   "metadata": {
    "id": "nSdp3L4rJZZH"
   },
   "source": [
    "## Eceptional Work"
   ]
  },
  {
   "cell_type": "markdown",
   "metadata": {
    "id": "SZLQhOtmJrsk"
   },
   "source": [
    ">Use dimensionality reduction (choose an appropriate method from this list: t-SNE, SVD, PCA, or UMAP) to visualize the word embeddings of a subset of words in your vocabulary that you expect to have an analogy that can be captured by the embedding. Try to interpret if an analogy exists, show the vectors that support/refute the analogy, and interpret your findings. "
   ]
  },
  {
   "cell_type": "markdown",
   "metadata": {
    "id": "7KQKk5SsdjYw"
   },
   "source": [
    "**Exceptional Work**:\n",
    "\n",
    "Use UMAP to show analogy between words from your vocabulary.\n",
    "\n",
    "* car:accident :: plane:lost_luggage\n",
    "* UD:dollar :: Japan:yen\n",
    "* car:uber :: plane:american_airlines\n",
    "* card:replacement :: car:repair\n",
    "* credit:score :: plane:miles"
   ]
  },
  {
   "cell_type": "markdown",
   "metadata": {
    "id": "gNRrcTInJuke"
   },
   "source": []
  },
  {
   "cell_type": "code",
   "execution_count": null,
   "metadata": {
    "id": "GWm-ikOiKBP1"
   },
   "outputs": [],
   "source": []
  },
  {
   "cell_type": "code",
   "execution_count": null,
   "metadata": {
    "id": "OZvdKc-EKBn0"
   },
   "outputs": [],
   "source": [
    "!pip install -q umap-learn\n",
    "!pip install -q umap-learn[plot]\n",
    "import umap\n",
    "import umap.plot\n"
   ]
  },
  {
   "cell_type": "code",
   "execution_count": null,
   "metadata": {
    "id": "Ffromp07KB6j"
   },
   "outputs": [],
   "source": [
    "%%time\n",
    "mapper = umap.UMAP().fit(Xlo)\n",
    "umap.plot.points(mapper,labels=df.intents)\n",
    "plt.legend('')"
   ]
  }
 ],
 "metadata": {
  "colab": {
   "collapsed_sections": [
    "FTaab9jyGIaC",
    "Xua1ySmjEBjw",
    "Aod7s0a3WOAM",
    "Z2aSMF88NS-j",
    "A-1ADr0ONxnQ"
   ],
   "provenance": [],
   "toc_visible": true
  },
  "kernelspec": {
   "display_name": "Python 3 (ipykernel)",
   "language": "python",
   "name": "python3"
  },
  "language_info": {
   "codemirror_mode": {
    "name": "ipython",
    "version": 3
   },
   "file_extension": ".py",
   "mimetype": "text/x-python",
   "name": "python",
   "nbconvert_exporter": "python",
   "pygments_lexer": "ipython3",
   "version": "3.8.8"
  }
 },
 "nbformat": 4,
 "nbformat_minor": 1
}
